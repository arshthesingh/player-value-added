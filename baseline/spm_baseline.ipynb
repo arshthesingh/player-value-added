{
 "cells": [
  {
   "cell_type": "code",
   "execution_count": 1,
   "id": "fcce0d03",
   "metadata": {},
   "outputs": [],
   "source": [
    "import numpy as np\n",
    "import pandas as pd\n",
    "\n",
    "from sklearn.model_selection import train_test_split\n",
    "from sklearn.preprocessing import StandardScaler\n",
    "from sklearn.linear_model import RidgeCV, LassoCV\n",
    "from sklearn.metrics import mean_squared_error, r2_score\n",
    "\n",
    "import matplotlib.pyplot as plt\n",
    "import seaborn as sns"
   ]
  },
  {
   "cell_type": "code",
   "execution_count": 2,
   "id": "67210a9f",
   "metadata": {},
   "outputs": [
    {
     "name": "stderr",
     "output_type": "stream",
     "text": [
      "/var/folders/qt/m1d2k3qd4_z368vlhrz0r7w80000gn/T/ipykernel_78831/3895760055.py:1: DtypeWarning: Columns (9) have mixed types. Specify dtype option on import or set low_memory=False.\n",
      "  stats = pd.read_csv('cleaned_fbref_players.csv')\n"
     ]
    }
   ],
   "source": [
    "stats = pd.read_csv('cleaned_fbref_players.csv')"
   ]
  },
  {
   "cell_type": "code",
   "execution_count": null,
   "id": "5076a7ce",
   "metadata": {},
   "outputs": [],
   "source": [
    "num_cols = stats.select_dtypes(include='number').columns.drop('Min_Playing')\n",
    "\n",
    "def agg_per_url(g):\n",
    "    total_minutes = g['Min_Playing'].sum()\n",
    "    # weighted averages\n",
    "    out = {\n",
    "        col: (g[col] * g['Min_Playing']).sum() / total_minutes\n",
    "        for col in num_cols\n",
    "    }\n",
    "    out['Total_Min_Playing'] = total_minutes\n",
    "    # carry along Player/Nation/Pos\n",
    "    out['Player'] = g['Player'].iloc[0]\n",
    "    out['Nation'] = g['Nation'].iloc[0]\n",
    "    out['Pos']    = g['Pos'].iloc[0]\n",
    "    return pd.Series(out)\n",
    "\n",
    "# group and apply\n",
    "weighted_by_url = stats.groupby('Url').apply(agg_per_url).reset_index()"
   ]
  },
  {
   "cell_type": "code",
   "execution_count": null,
   "id": "bdc8c713",
   "metadata": {},
   "outputs": [],
   "source": [
    "front_cols = ['Url', 'Player', 'Nation', 'Pos']\n",
    "\n",
    "other_cols = [c for c in weighted_by_url.columns if c not in front_cols]\n",
    "\n",
    "weighted_by_url = weighted_by_url[ front_cols + other_cols ]"
   ]
  },
  {
   "cell_type": "code",
   "execution_count": null,
   "id": "bd68e830",
   "metadata": {},
   "outputs": [],
   "source": [
    "# Load your RAPM ratings CSV\n",
    "ratings = pd.read_csv('baseline_model.csv')\n",
    "\n",
    "ratings = ratings[['player_name','offense']]\n",
    "\n",
    "ratings = ratings.rename(columns={\n",
    "    'player_name': 'Player',\n",
    "    'offense':     'offense_rating'\n",
    "})\n",
    "\n",
    "# Merge onto weighted_by_url\n",
    "merged_df = weighted_by_url.merge(\n",
    "    ratings,\n",
    "    on='Player',\n",
    "    how='left'           \n",
    ")"
   ]
  },
  {
   "cell_type": "code",
   "execution_count": null,
   "id": "c0f92131",
   "metadata": {},
   "outputs": [],
   "source": []
  }
 ],
 "metadata": {
  "kernelspec": {
   "display_name": ".venv",
   "language": "python",
   "name": "python3"
  },
  "language_info": {
   "codemirror_mode": {
    "name": "ipython",
    "version": 3
   },
   "file_extension": ".py",
   "mimetype": "text/x-python",
   "name": "python",
   "nbconvert_exporter": "python",
   "pygments_lexer": "ipython3",
   "version": "3.11.11"
  }
 },
 "nbformat": 4,
 "nbformat_minor": 5
}
