{
 "cells": [
  {
   "cell_type": "code",
   "execution_count": 1,
   "id": "b7a3d31a",
   "metadata": {},
   "outputs": [
    {
     "name": "stdout",
     "output_type": "stream",
     "text": [
      "Current directory: /Users/arshsingh/Documents/Projects/soccer-value-added/baseline\n",
      "Added to path: /Users/arshsingh/Documents/Projects/soccer-value-added\n"
     ]
    }
   ],
   "source": [
    "import os\n",
    "import sys\n",
    "\n",
    "# Get the current directory \n",
    "current_dir = os.getcwd()\n",
    "\n",
    "# Get the parent directory\n",
    "root_dir = os.path.dirname(current_dir)\n",
    "\n",
    "# Add the root directory to the Python path\n",
    "sys.path.append(root_dir)\n",
    "\n",
    "print(f\"Current directory: {current_dir}\")\n",
    "print(f\"Added to path: {root_dir}\")"
   ]
  },
  {
   "cell_type": "code",
   "execution_count": 2,
   "id": "fd4fe613",
   "metadata": {},
   "outputs": [],
   "source": [
    "import pandas as pd \n",
    "import numpy as np\n",
    "from scipy.sparse import csr_matrix\n",
    "from sklearn.linear_model import Ridge\n",
    "from sklearn.metrics import r2_score\n",
    "from sklearn.model_selection import KFold, GridSearchCV\n",
    "\n",
    "import warnings\n",
    "warnings.filterwarnings('ignore')\n",
    "\n",
    "from preprocessing import preprocess_rapm_data"
   ]
  },
  {
   "cell_type": "code",
   "execution_count": 3,
   "id": "68327d77",
   "metadata": {},
   "outputs": [
    {
     "name": "stdout",
     "output_type": "stream",
     "text": [
      "Loaded RAPM data with shape: (299332, 13108)\n",
      "Loaded goalkeeper data with shape: (22370, 39)\n",
      "Loaded player minutes data with shape: (7149, 4)\n",
      "Identified 540 goalkeeper players to remove\n",
      "Dropping 992 goalkeeper columns\n",
      "Found 3638 replacement-level players (threshold: 2000 minutes)\n",
      "Dropping 5684 replacement player columns\n",
      "Added xG_per_90 feature\n",
      "Final preprocessed dataframe shape: (299332, 6435)\n"
     ]
    }
   ],
   "source": [
    "data_dir = os.path.join(root_dir, 'data')\n",
    "df = preprocess_rapm_data(\n",
    "    rapm_path=os.path.join(data_dir, 'rapm_input.pkl'),\n",
    "    gk_path=os.path.join(data_dir, 'top5_standard_24.csv'),\n",
    "    player_mins_path=os.path.join(data_dir, 'playermins.1724.csv'),\n",
    "    replacement_threshold=2000,\n",
    "    include_xg_per_90=True\n",
    ")"
   ]
  },
  {
   "cell_type": "code",
   "execution_count": 4,
   "id": "cd2ae803",
   "metadata": {},
   "outputs": [
    {
     "name": "stdout",
     "output_type": "stream",
     "text": [
      "offense_or_defense         player_name   offense   defense       net\n",
      "2588                Robert Lewandowski  0.361335 -0.142414  0.503748\n",
      "1684                     Kylian Mbappé  0.426097 -0.037718  0.463815\n",
      "3033                   Virgil van Dijk  0.311477 -0.147900  0.459377\n",
      "2759                      Serge Gnabry  0.391004 -0.051533  0.442537\n",
      "205                   Andrew Robertson  0.214139 -0.220923  0.435062\n",
      "1736                        Leroy Sané  0.276371 -0.156439  0.432811\n",
      "1044                      Gerard Piqué  0.312873 -0.114306  0.427178\n",
      "1485                    Joshua Kimmich  0.250162 -0.168708  0.418870\n",
      "2170                     Mohamed Salah  0.245528 -0.162247  0.407774\n",
      "3206                    İlkay Gündoğan  0.291305 -0.113863  0.405168\n"
     ]
    }
   ],
   "source": [
    "feature_cols = [col for col in df.columns if col.endswith('_offense') or col.endswith('_defense')]\n",
    "\n",
    "X = csr_matrix(df[feature_cols].values)\n",
    "y = df['xG_per_90'].values\n",
    "\n",
    "mask = np.isfinite(y)\n",
    "\n",
    "X_clean = X[mask]\n",
    "y_clean = y[mask]\n",
    "\n",
    "model = Ridge(alpha=2000, solver='sparse_cg', max_iter=10000, tol=1e-3)\n",
    "model.fit(X_clean, y_clean)\n",
    "\n",
    "coef_series = pd.Series(model.coef_, index=feature_cols)\n",
    "\n",
    "coef_df = coef_series.reset_index()\n",
    "coef_df.columns = ['feature', 'coefficient']\n",
    "\n",
    "coef_df[['player_name', 'offense_or_defense']] = (\n",
    "    coef_df['feature'].str.rsplit(pat='_', n=1, expand=True)\n",
    ")\n",
    "\n",
    "coef_df = coef_df[['player_name', 'offense_or_defense', 'coefficient']]\n",
    "\n",
    "wide = coef_df.pivot(\n",
    "    index='player_name',\n",
    "    columns='offense_or_defense',\n",
    "    values='coefficient'\n",
    ").reset_index()\n",
    "\n",
    "wide[['offense','defense']] = wide[['offense','defense']].fillna(0)\n",
    "\n",
    "wide['net'] = wide['offense'] - wide['defense']\n",
    "\n",
    "wide = wide[['player_name', 'offense', 'defense', 'net']]\n",
    "\n",
    "print(wide.sort_values('net', ascending=False).head(10))"
   ]
  },
  {
   "cell_type": "code",
   "execution_count": 5,
   "id": "574504f3",
   "metadata": {},
   "outputs": [],
   "source": [
    "wide.to_csv('baseline_model.csv')"
   ]
  },
  {
   "cell_type": "code",
   "execution_count": null,
   "id": "59b74004",
   "metadata": {},
   "outputs": [],
   "source": []
  }
 ],
 "metadata": {
  "kernelspec": {
   "display_name": ".venv",
   "language": "python",
   "name": "python3"
  },
  "language_info": {
   "codemirror_mode": {
    "name": "ipython",
    "version": 3
   },
   "file_extension": ".py",
   "mimetype": "text/x-python",
   "name": "python",
   "nbconvert_exporter": "python",
   "pygments_lexer": "ipython3",
   "version": "3.11.11"
  }
 },
 "nbformat": 4,
 "nbformat_minor": 5
}
